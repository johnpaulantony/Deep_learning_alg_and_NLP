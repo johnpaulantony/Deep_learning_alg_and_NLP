{
  "nbformat": 4,
  "nbformat_minor": 0,
  "metadata": {
    "colab": {
      "provenance": [],
      "gpuType": "T4"
    },
    "kernelspec": {
      "name": "python3",
      "display_name": "Python 3"
    },
    "language_info": {
      "name": "python"
    },
    "accelerator": "GPU"
  },
  "cells": [
    {
      "cell_type": "code",
      "execution_count": null,
      "metadata": {
        "id": "ktPfwjCc6acU"
      },
      "outputs": [],
      "source": [
        "1. Text preprocessing - pre defined methods and regex - normal , NLP - re\n",
        "2. TextBlob\n",
        "3. sentiment analysis project using twitter dataset\n",
        "\n",
        "\n",
        "1. Lowercasing\n",
        "2. Removing punctuation\n",
        "3. removing stopwords - discussed\n",
        "4. tokenization - discussed\n",
        "5. Lemmatization / Stemming - discussed\n",
        "6. Removing special characters\n",
        "7. removing extra spaces\n",
        "8. Handling Numbers\n",
        "9. POS Tagging - discussed\n",
        "10. NER - discussed"
      ]
    },
    {
      "cell_type": "code",
      "source": [
        "# Text preprocessing steps\n",
        "\n",
        "import string\n",
        "from nltk.corpus import stopwords\n",
        "from nltk.tokenize import word_tokenize\n",
        "from nltk.stem import WordNetLemmatizer\n",
        "\n",
        "\n",
        "# download necessary resources\n",
        "import nltk\n",
        "nltk.download('punkt_tab')\n",
        "nltk.download('stopwords')\n",
        "nltk.download('wordnet')\n",
        "\n",
        "# Example sentence\n",
        "text_new=\"John is running in the park at 5 PM\"\n",
        "\n",
        "# step 1: lowercasing\n",
        "text=text_new.lower()\n",
        "print(\"lower case\",text)\n",
        "\n",
        "# step 2: removing punctuation\n",
        "\n",
        "text=text.translate(str.maketrans('','',string.punctuation))\n",
        "print(\"punctuation removed\",text)\n",
        "\n",
        "\n",
        "# step 3 : Tokenization\n",
        "tokens=word_tokenize(text)\n",
        "print(\"tokenized\",tokens)\n",
        "\n",
        "\n",
        "# step 4: removing stopwords\n",
        "stop_words=set(stopwords.words('english'))\n",
        "filtered_tokens=[word for word in tokens if word not in stop_words]\n",
        "print(\"stopwords removed\",filtered_tokens)\n",
        "\n",
        "\n",
        "# Step 5: Lemmatization\n",
        "lemmatizer=WordNetLemmatizer()\n",
        "lemmatized_tokens=[lemmatizer.lemmatize(word) for word in filtered_tokens]\n",
        "print(\"lemmatized\",lemmatized_tokens)\n",
        "\n",
        "\n",
        "# step 6: Join processed text\n",
        "processed_text=' '.join(lemmatized_tokens)\n",
        "print(\"processed text\",processed_text)\n",
        "\n",
        "\n",
        "print(\"origional Text\",text_new)\n",
        "print(\"processed text\",processed_text)\n"
      ],
      "metadata": {
        "colab": {
          "base_uri": "https://localhost:8080/"
        },
        "id": "EsjoTQ1i-GJA",
        "outputId": "a8262715-64e3-4817-c55d-4cce06c34e4f"
      },
      "execution_count": 1,
      "outputs": [
        {
          "output_type": "stream",
          "name": "stderr",
          "text": [
            "[nltk_data] Downloading package punkt_tab to /root/nltk_data...\n",
            "[nltk_data]   Unzipping tokenizers/punkt_tab.zip.\n",
            "[nltk_data] Downloading package stopwords to /root/nltk_data...\n",
            "[nltk_data]   Unzipping corpora/stopwords.zip.\n",
            "[nltk_data] Downloading package wordnet to /root/nltk_data...\n"
          ]
        },
        {
          "output_type": "stream",
          "name": "stdout",
          "text": [
            "lower case john is running in the park at 5 pm\n",
            "punctuation removed john is running in the park at 5 pm\n",
            "tokenized ['john', 'is', 'running', 'in', 'the', 'park', 'at', '5', 'pm']\n",
            "stopwords removed ['john', 'running', 'park', '5', 'pm']\n",
            "lemmatized ['john', 'running', 'park', '5', 'pm']\n",
            "processed text john running park 5 pm\n",
            "origional Text John is running in the park at 5 PM\n",
            "processed text john running park 5 pm\n"
          ]
        }
      ]
    },
    {
      "cell_type": "code",
      "source": [
        "binary data - 'b Hai Hello' - we need to remove b char as weka\n",
        "\n",
        "\n",
        "1. remove\n",
        "        special char\n",
        "        single char\n",
        "        single char from start of the text or sentence\n",
        "        substitute multiple spaces with a single space\n",
        "        remove prefixed 'b'\n",
        "\n",
        "  Handling numbers\n",
        ""
      ],
      "metadata": {
        "id": "s5ANLZWlBV5G"
      },
      "execution_count": null,
      "outputs": []
    },
    {
      "cell_type": "code",
      "source": [
        "import re\n",
        "\n",
        "\n",
        "def clean_text(sentence):\n",
        "  #1. remove special character\n",
        "  sentence= re.sub(r'\\W',' ',sentence)\n",
        "\n",
        "  #2. Remove single character\n",
        "  sentence=re.sub(r'\\s+[a-zA-Z]\\s+',' ',sentence)\n",
        "\n",
        "  #3. Remove single character from start\n",
        "  sentence=re.sub(r'^[a-zA-Z]\\s+',' ',sentence)\n",
        "\n",
        "  #4. Remove multiple spaces with a single space\n",
        "  sentence=re.sub(r'\\s+',' ',sentence)\n",
        "\n",
        "  #5. Remove prefixed 'b'\n",
        "  sentence=re.sub(r'^b\\s+','',sentence)\n",
        "\n",
        "  #6. convert to lowercase\n",
        "  sentence=sentence.lower()\n",
        "\n",
        "  return sentence\n",
        "\n",
        "input_text=\"a Hello! I have a cat, a dog, and a bird. A good day.\"\n",
        "cleaned_text=clean_text(input_text)\n",
        "\n",
        "print(cleaned_text)\n",
        "\n",
        "\n",
        "'''\n",
        "\\s - single space\n",
        "\\s+ - more than 1 space\n",
        "\n",
        "\n",
        "'''"
      ],
      "metadata": {
        "colab": {
          "base_uri": "https://localhost:8080/",
          "height": 52
        },
        "id": "pAtke9AJCDLC",
        "outputId": "cdce4893-9260-4a3c-ac1b-0619d4d3f9b9"
      },
      "execution_count": 8,
      "outputs": [
        {
          "output_type": "stream",
          "name": "stdout",
          "text": [
            " hello have cat dog and bird good day \n"
          ]
        },
        {
          "output_type": "execute_result",
          "data": {
            "text/plain": [
              "'\\n\\\\s - single space\\n\\\\s+ - more than 1 space\\n\\n\\n'"
            ],
            "application/vnd.google.colaboratory.intrinsic+json": {
              "type": "string"
            }
          },
          "metadata": {},
          "execution_count": 8
        }
      ]
    },
    {
      "cell_type": "code",
      "source": [
        "# Handling the numbers\n",
        "\n",
        "# Remove all numbers\n",
        "\n",
        "import re\n",
        "\n",
        "text=\" I have 2 cats and 3 dogs in 2024\"\n",
        "\n",
        "text=re.sub(r'\\d+','',text)\n",
        "\n",
        "print(text)\n",
        "\n",
        "\n",
        "# replace numbers with placeholder\n",
        "\n",
        "import re\n",
        "\n",
        "text=\" I have 2 cats and 3 dogs in 2024\"\n",
        "\n",
        "text=re.sub(r'\\d+','<NUM>',text)\n",
        "\n",
        "print(text)"
      ],
      "metadata": {
        "colab": {
          "base_uri": "https://localhost:8080/"
        },
        "id": "1iVaaEw3FM1h",
        "outputId": "5c2ccf8f-73c9-41e4-fa22-bf16c5e4863d"
      },
      "execution_count": 10,
      "outputs": [
        {
          "output_type": "stream",
          "name": "stdout",
          "text": [
            " I have  cats and  dogs in \n",
            " I have <NUM> cats and <NUM> dogs in <NUM>\n"
          ]
        }
      ]
    },
    {
      "cell_type": "code",
      "source": [
        "# Converting numbers into words ( useful for NLP models like chatbots)\n",
        "\n",
        "import inflect\n",
        "\n",
        "p=inflect.engine()\n",
        "\n",
        "text=\" I have 2 cats and 3 dogs in 2024\"\n",
        "\n",
        "#replace each number with its word form\n",
        "words=[p.number_to_words(word) if word.isdigit() else word for word in text.split()]\n",
        "\n",
        "text=\" \".join(words)\n",
        "\n",
        "print(text)"
      ],
      "metadata": {
        "colab": {
          "base_uri": "https://localhost:8080/"
        },
        "id": "5Tu1-NGwGLuQ",
        "outputId": "2dcb2d2d-b0c3-47ec-c8cb-e3a21e00c588"
      },
      "execution_count": 11,
      "outputs": [
        {
          "output_type": "stream",
          "name": "stdout",
          "text": [
            "I have two cats and three dogs in two thousand and twenty-four\n"
          ]
        }
      ]
    },
    {
      "cell_type": "code",
      "source": [
        "# keeping only specific numbers(like years or percentage)\n",
        "\n",
        "import re\n",
        "\n",
        "text=\"The stock rose by 25% in the year 2024.\"\n",
        "\n",
        "text=re.sub(r'\\b(?!202[0-9])\\d+\\b','',text)\n",
        "\n",
        "print(text)"
      ],
      "metadata": {
        "colab": {
          "base_uri": "https://localhost:8080/"
        },
        "id": "dr5MAcl3HqNK",
        "outputId": "d8c2d485-6c58-4cac-d796-467523e8d377"
      },
      "execution_count": 15,
      "outputs": [
        {
          "output_type": "stream",
          "name": "stdout",
          "text": [
            "The stock rose by % in the year 2024.\n"
          ]
        }
      ]
    },
    {
      "cell_type": "code",
      "source": [
        "r'\\b\\d{4,}\\b','LargeNUM'"
      ],
      "metadata": {
        "id": "p_TTXgsnJKOi"
      },
      "execution_count": null,
      "outputs": []
    },
    {
      "cell_type": "code",
      "source": [
        "# TextBlob python lib - detecting and correcting the spelling errors\n",
        "\n",
        "from textblob import TextBlob\n",
        "\n",
        "# Example sentence with spelling errors\n",
        "\n",
        "sentence = \" I have a speling errror in this sentnce\"\n",
        "\n",
        "\n",
        "# create a TextBlob instance\n",
        "blob=TextBlob(sentence)\n",
        "\n",
        "# correct the sentence\n",
        "corrected_sentence=str(blob.correct())\n",
        "\n",
        "print(\"corrected sentence\",corrected_sentence)"
      ],
      "metadata": {
        "colab": {
          "base_uri": "https://localhost:8080/"
        },
        "id": "n0GzXp2MJchs",
        "outputId": "e7dcbd0e-1295-4466-b0eb-a34510730549"
      },
      "execution_count": 16,
      "outputs": [
        {
          "output_type": "stream",
          "name": "stdout",
          "text": [
            "corrected sentence  I have a spelling error in this sentence\n"
          ]
        }
      ]
    },
    {
      "cell_type": "code",
      "source": [
        "Auto correct in smartphones\n",
        "\n",
        "Grammers and spell checkers\n",
        "\n",
        "\n",
        "search engine"
      ],
      "metadata": {
        "id": "vyZXAjl2KR4b"
      },
      "execution_count": null,
      "outputs": []
    },
    {
      "cell_type": "code",
      "source": [
        "# Sentiment analysis\n",
        "\n",
        "# import required libraries\n",
        "import numpy as np\n",
        "import pandas as pd\n",
        "import re\n",
        "from nltk.corpus import stopwords\n",
        "from sklearn.ensemble import RandomForestClassifier\n",
        "from sklearn.feature_extraction.text import TfidfVectorizer\n",
        "from sklearn.metrics import accuracy_score\n",
        "from sklearn.model_selection import train_test_split\n"
      ],
      "metadata": {
        "id": "jEEovDSZK6WO"
      },
      "execution_count": 19,
      "outputs": []
    },
    {
      "cell_type": "code",
      "source": [
        "# Load dataset from local directory\n",
        "from google.colab import files\n",
        "uploaded=files.upload()"
      ],
      "metadata": {
        "colab": {
          "base_uri": "https://localhost:8080/",
          "height": 73
        },
        "id": "EmVMuldGOrwe",
        "outputId": "7c6f98f5-4c06-46ce-9a2c-702c85ac4c37"
      },
      "execution_count": 17,
      "outputs": [
        {
          "output_type": "display_data",
          "data": {
            "text/plain": [
              "<IPython.core.display.HTML object>"
            ],
            "text/html": [
              "\n",
              "     <input type=\"file\" id=\"files-8777acb9-0cb7-4cb3-b6d7-5852cb568ca6\" name=\"files[]\" multiple disabled\n",
              "        style=\"border:none\" />\n",
              "     <output id=\"result-8777acb9-0cb7-4cb3-b6d7-5852cb568ca6\">\n",
              "      Upload widget is only available when the cell has been executed in the\n",
              "      current browser session. Please rerun this cell to enable.\n",
              "      </output>\n",
              "      <script>// Copyright 2017 Google LLC\n",
              "//\n",
              "// Licensed under the Apache License, Version 2.0 (the \"License\");\n",
              "// you may not use this file except in compliance with the License.\n",
              "// You may obtain a copy of the License at\n",
              "//\n",
              "//      http://www.apache.org/licenses/LICENSE-2.0\n",
              "//\n",
              "// Unless required by applicable law or agreed to in writing, software\n",
              "// distributed under the License is distributed on an \"AS IS\" BASIS,\n",
              "// WITHOUT WARRANTIES OR CONDITIONS OF ANY KIND, either express or implied.\n",
              "// See the License for the specific language governing permissions and\n",
              "// limitations under the License.\n",
              "\n",
              "/**\n",
              " * @fileoverview Helpers for google.colab Python module.\n",
              " */\n",
              "(function(scope) {\n",
              "function span(text, styleAttributes = {}) {\n",
              "  const element = document.createElement('span');\n",
              "  element.textContent = text;\n",
              "  for (const key of Object.keys(styleAttributes)) {\n",
              "    element.style[key] = styleAttributes[key];\n",
              "  }\n",
              "  return element;\n",
              "}\n",
              "\n",
              "// Max number of bytes which will be uploaded at a time.\n",
              "const MAX_PAYLOAD_SIZE = 100 * 1024;\n",
              "\n",
              "function _uploadFiles(inputId, outputId) {\n",
              "  const steps = uploadFilesStep(inputId, outputId);\n",
              "  const outputElement = document.getElementById(outputId);\n",
              "  // Cache steps on the outputElement to make it available for the next call\n",
              "  // to uploadFilesContinue from Python.\n",
              "  outputElement.steps = steps;\n",
              "\n",
              "  return _uploadFilesContinue(outputId);\n",
              "}\n",
              "\n",
              "// This is roughly an async generator (not supported in the browser yet),\n",
              "// where there are multiple asynchronous steps and the Python side is going\n",
              "// to poll for completion of each step.\n",
              "// This uses a Promise to block the python side on completion of each step,\n",
              "// then passes the result of the previous step as the input to the next step.\n",
              "function _uploadFilesContinue(outputId) {\n",
              "  const outputElement = document.getElementById(outputId);\n",
              "  const steps = outputElement.steps;\n",
              "\n",
              "  const next = steps.next(outputElement.lastPromiseValue);\n",
              "  return Promise.resolve(next.value.promise).then((value) => {\n",
              "    // Cache the last promise value to make it available to the next\n",
              "    // step of the generator.\n",
              "    outputElement.lastPromiseValue = value;\n",
              "    return next.value.response;\n",
              "  });\n",
              "}\n",
              "\n",
              "/**\n",
              " * Generator function which is called between each async step of the upload\n",
              " * process.\n",
              " * @param {string} inputId Element ID of the input file picker element.\n",
              " * @param {string} outputId Element ID of the output display.\n",
              " * @return {!Iterable<!Object>} Iterable of next steps.\n",
              " */\n",
              "function* uploadFilesStep(inputId, outputId) {\n",
              "  const inputElement = document.getElementById(inputId);\n",
              "  inputElement.disabled = false;\n",
              "\n",
              "  const outputElement = document.getElementById(outputId);\n",
              "  outputElement.innerHTML = '';\n",
              "\n",
              "  const pickedPromise = new Promise((resolve) => {\n",
              "    inputElement.addEventListener('change', (e) => {\n",
              "      resolve(e.target.files);\n",
              "    });\n",
              "  });\n",
              "\n",
              "  const cancel = document.createElement('button');\n",
              "  inputElement.parentElement.appendChild(cancel);\n",
              "  cancel.textContent = 'Cancel upload';\n",
              "  const cancelPromise = new Promise((resolve) => {\n",
              "    cancel.onclick = () => {\n",
              "      resolve(null);\n",
              "    };\n",
              "  });\n",
              "\n",
              "  // Wait for the user to pick the files.\n",
              "  const files = yield {\n",
              "    promise: Promise.race([pickedPromise, cancelPromise]),\n",
              "    response: {\n",
              "      action: 'starting',\n",
              "    }\n",
              "  };\n",
              "\n",
              "  cancel.remove();\n",
              "\n",
              "  // Disable the input element since further picks are not allowed.\n",
              "  inputElement.disabled = true;\n",
              "\n",
              "  if (!files) {\n",
              "    return {\n",
              "      response: {\n",
              "        action: 'complete',\n",
              "      }\n",
              "    };\n",
              "  }\n",
              "\n",
              "  for (const file of files) {\n",
              "    const li = document.createElement('li');\n",
              "    li.append(span(file.name, {fontWeight: 'bold'}));\n",
              "    li.append(span(\n",
              "        `(${file.type || 'n/a'}) - ${file.size} bytes, ` +\n",
              "        `last modified: ${\n",
              "            file.lastModifiedDate ? file.lastModifiedDate.toLocaleDateString() :\n",
              "                                    'n/a'} - `));\n",
              "    const percent = span('0% done');\n",
              "    li.appendChild(percent);\n",
              "\n",
              "    outputElement.appendChild(li);\n",
              "\n",
              "    const fileDataPromise = new Promise((resolve) => {\n",
              "      const reader = new FileReader();\n",
              "      reader.onload = (e) => {\n",
              "        resolve(e.target.result);\n",
              "      };\n",
              "      reader.readAsArrayBuffer(file);\n",
              "    });\n",
              "    // Wait for the data to be ready.\n",
              "    let fileData = yield {\n",
              "      promise: fileDataPromise,\n",
              "      response: {\n",
              "        action: 'continue',\n",
              "      }\n",
              "    };\n",
              "\n",
              "    // Use a chunked sending to avoid message size limits. See b/62115660.\n",
              "    let position = 0;\n",
              "    do {\n",
              "      const length = Math.min(fileData.byteLength - position, MAX_PAYLOAD_SIZE);\n",
              "      const chunk = new Uint8Array(fileData, position, length);\n",
              "      position += length;\n",
              "\n",
              "      const base64 = btoa(String.fromCharCode.apply(null, chunk));\n",
              "      yield {\n",
              "        response: {\n",
              "          action: 'append',\n",
              "          file: file.name,\n",
              "          data: base64,\n",
              "        },\n",
              "      };\n",
              "\n",
              "      let percentDone = fileData.byteLength === 0 ?\n",
              "          100 :\n",
              "          Math.round((position / fileData.byteLength) * 100);\n",
              "      percent.textContent = `${percentDone}% done`;\n",
              "\n",
              "    } while (position < fileData.byteLength);\n",
              "  }\n",
              "\n",
              "  // All done.\n",
              "  yield {\n",
              "    response: {\n",
              "      action: 'complete',\n",
              "    }\n",
              "  };\n",
              "}\n",
              "\n",
              "scope.google = scope.google || {};\n",
              "scope.google.colab = scope.google.colab || {};\n",
              "scope.google.colab._files = {\n",
              "  _uploadFiles,\n",
              "  _uploadFilesContinue,\n",
              "};\n",
              "})(self);\n",
              "</script> "
            ]
          },
          "metadata": {}
        },
        {
          "output_type": "stream",
          "name": "stdout",
          "text": [
            "Saving dataset.csv to dataset.csv\n"
          ]
        }
      ]
    },
    {
      "cell_type": "code",
      "source": [
        "# importing dataset\n",
        "dataset=pd.read_csv('dataset.csv')\n",
        "print(dataset.shape)\n",
        "print(dataset.head())"
      ],
      "metadata": {
        "colab": {
          "base_uri": "https://localhost:8080/"
        },
        "id": "ZmtkRUWsO7aP",
        "outputId": "5d8e1bae-f8ec-4485-8786-b5b2f3da9dc3"
      },
      "execution_count": 20,
      "outputs": [
        {
          "output_type": "stream",
          "name": "stdout",
          "text": [
            "(14640, 15)\n",
            "             tweet_id airline_sentiment  airline_sentiment_confidence  \\\n",
            "0  570306133677760513           neutral                        1.0000   \n",
            "1  570301130888122368          positive                        0.3486   \n",
            "2  570301083672813571           neutral                        0.6837   \n",
            "3  570301031407624196          negative                        1.0000   \n",
            "4  570300817074462722          negative                        1.0000   \n",
            "\n",
            "  negativereason  negativereason_confidence         airline  \\\n",
            "0            NaN                        NaN  Virgin America   \n",
            "1            NaN                     0.0000  Virgin America   \n",
            "2            NaN                        NaN  Virgin America   \n",
            "3     Bad Flight                     0.7033  Virgin America   \n",
            "4     Can't Tell                     1.0000  Virgin America   \n",
            "\n",
            "  airline_sentiment_gold        name negativereason_gold  retweet_count  \\\n",
            "0                    NaN     cairdin                 NaN              0   \n",
            "1                    NaN    jnardino                 NaN              0   \n",
            "2                    NaN  yvonnalynn                 NaN              0   \n",
            "3                    NaN    jnardino                 NaN              0   \n",
            "4                    NaN    jnardino                 NaN              0   \n",
            "\n",
            "                                                text tweet_coord  \\\n",
            "0                @VirginAmerica What @dhepburn said.         NaN   \n",
            "1  @VirginAmerica plus you've added commercials t...         NaN   \n",
            "2  @VirginAmerica I didn't today... Must mean I n...         NaN   \n",
            "3  @VirginAmerica it's really aggressive to blast...         NaN   \n",
            "4  @VirginAmerica and it's a really big bad thing...         NaN   \n",
            "\n",
            "               tweet_created tweet_location               user_timezone  \n",
            "0  2015-02-24 11:35:52 -0800            NaN  Eastern Time (US & Canada)  \n",
            "1  2015-02-24 11:15:59 -0800            NaN  Pacific Time (US & Canada)  \n",
            "2  2015-02-24 11:15:48 -0800      Lets Play  Central Time (US & Canada)  \n",
            "3  2015-02-24 11:15:36 -0800            NaN  Pacific Time (US & Canada)  \n",
            "4  2015-02-24 11:14:45 -0800            NaN  Pacific Time (US & Canada)  \n"
          ]
        }
      ]
    },
    {
      "cell_type": "code",
      "source": [
        "# Segregating Dataset into Input and OutPUT\n",
        "\n",
        "features=dataset.iloc[:,10].values\n",
        "labels=dataset.iloc[:,1].values\n",
        "print(features)\n",
        "print(labels)"
      ],
      "metadata": {
        "colab": {
          "base_uri": "https://localhost:8080/"
        },
        "id": "7hrTsUbHPZXE",
        "outputId": "8eebacc9-b63c-4890-b735-8703832643c0"
      },
      "execution_count": 22,
      "outputs": [
        {
          "output_type": "stream",
          "name": "stdout",
          "text": [
            "['@VirginAmerica What @dhepburn said.'\n",
            " \"@VirginAmerica plus you've added commercials to the experience... tacky.\"\n",
            " \"@VirginAmerica I didn't today... Must mean I need to take another trip!\"\n",
            " ... '@AmericanAir Please bring American Airlines to #BlackBerry10'\n",
            " \"@AmericanAir you have my money, you change my flight, and don't answer your phones! Any other suggestions so I can make my commitment??\"\n",
            " '@AmericanAir we have 8 ppl so we need 2 know how many seats are on the next flight. Plz put us on standby for 4 people on the next flight?']\n",
            "['neutral' 'positive' 'neutral' ... 'neutral' 'negative' 'neutral']\n"
          ]
        }
      ]
    },
    {
      "cell_type": "code",
      "source": [
        "# Text preprocessing and Feature extraction\n",
        "\n",
        "# TExt preprocessing\n",
        "processed_features=[]\n",
        "\n",
        "for sentence in range(0,len(features)):\n",
        "  # Remove all the special charcters\n",
        "               processed_feature=re.sub(r'\\W',' ',str(features[sentence]))\n",
        "\n",
        "  # remove all single characters\n",
        "               processed_feature=re.sub(r'\\s+[a-zA-Z]\\s+',' ',processed_feature)\n",
        "\n",
        "  # remove single characters from the start\n",
        "               processed_feature=re.sub(r'^[a-zA-Z]\\s+', ' ',processed_feature)\n",
        "\n",
        ""
      ],
      "metadata": {
        "id": "zgVVOwSaQAGq"
      },
      "execution_count": null,
      "outputs": []
    }
  ]
}